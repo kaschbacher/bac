{
 "cells": [
  {
   "cell_type": "code",
   "execution_count": 1,
   "metadata": {},
   "outputs": [],
   "source": [
    "import pandas as pd\n",
    "import numpy as np\n",
    "import statsmodels.api as sm\n",
    "import statsmodels.formula.api as smf\n",
    "import matplotlib.pyplot as plt\n",
    "import seaborn as sns\n",
    "import datetime as dt\n",
    "\n",
    "import pyarrow.parquet as pq\n",
    "import pyarrow as pa\n",
    "#pa.__version__\n",
    "\n",
    "pd.set_option('display.width', 500)\n",
    "\n",
    "%matplotlib inline\n",
    "%load_ext rpy2.ipython\n",
    "#%R library(lme4)"
   ]
  },
  {
   "cell_type": "code",
   "execution_count": 2,
   "metadata": {},
   "outputs": [
    {
     "name": "stdout",
     "output_type": "stream",
     "text": [
      "/Users/KAschbacher/Desktop/eheart/analysis/BAC/self_monitoring\r\n"
     ]
    }
   ],
   "source": [
    "! pwd"
   ]
  },
  {
   "cell_type": "code",
   "execution_count": 3,
   "metadata": {},
   "outputs": [],
   "source": [
    "from statsmodels.regression.mixed_linear_model import MixedLMResults"
   ]
  },
  {
   "cell_type": "code",
   "execution_count": null,
   "metadata": {},
   "outputs": [],
   "source": [
    "# ### Test Example\n",
    "# ### --http://www.statsmodels.org/stable/examples/notebooks/generated/mixed_lm_example.html\n",
    "# ### -- note: sometimes this works, and other times you get a timeout error - seems to be due to bad internet connection, just rerun\n",
    "\n",
    "# data = sm.datasets.get_rdataset('dietox', 'geepack').data\n",
    "# md = smf.mixedlm(\"Weight ~ Time\", data, groups=data[\"Pig\"])\n",
    "# mdf = md.fit()\n",
    "# print(mdf.summary())"
   ]
  },
  {
   "cell_type": "markdown",
   "metadata": {},
   "source": [
    "### Load Parquet file"
   ]
  },
  {
   "cell_type": "code",
   "execution_count": 15,
   "metadata": {},
   "outputs": [],
   "source": [
    "FOLDER = \"/Users/KAschbacher/Desktop/eheart/analysis/BAC/redshift_data\"\n",
    "FILENAME = \"bac.final_analysis9_2013_2019-08-10.parquet\"\n",
    "#FIG_FOLDER = \"/Users/KAschbacher/Dropbox/BACTrack/BACTrack/Manuscript/Tables and Figures/Bargraphs\"\n",
    "FIG_FOLDER = \"/Users/KAschbacher/Dropbox/BACTrack/BACTrack\"\n",
    "TODAY = str(dt.date.today())"
   ]
  },
  {
   "cell_type": "code",
   "execution_count": 5,
   "metadata": {},
   "outputs": [
    {
     "name": "stdout",
     "output_type": "stream",
     "text": [
      "\n",
      "Loading file bac.final_analysis9_2013_2019-08-10.parquet...\n"
     ]
    },
    {
     "name": "stderr",
     "output_type": "stream",
     "text": [
      "/Users/KAschbacher/anaconda3/lib/python3.7/site-packages/pyarrow/pandas_compat.py:708: FutureWarning: .labels was deprecated in version 0.24.0. Use .codes instead.\n",
      "  labels = getattr(columns, 'labels', None) or [\n",
      "/Users/KAschbacher/anaconda3/lib/python3.7/site-packages/pyarrow/pandas_compat.py:735: FutureWarning: the 'labels' keyword is deprecated, use 'codes' instead\n",
      "  return pd.MultiIndex(levels=new_levels, labels=labels, names=columns.names)\n",
      "/Users/KAschbacher/anaconda3/lib/python3.7/site-packages/pyarrow/pandas_compat.py:752: FutureWarning: .labels was deprecated in version 0.24.0. Use .codes instead.\n",
      "  labels, = index.labels\n"
     ]
    },
    {
     "name": "stdout",
     "output_type": "stream",
     "text": [
      "Dataframe loaded. DF-shape (42847, 140)\n",
      "\n",
      "Loading file bac.final_analysis9_2014_2019-08-10.parquet...\n",
      "Dataframe loaded. DF-shape (94407, 140)\n",
      "\n",
      "Loading file bac.final_analysis9_2015_2019-08-10.parquet...\n",
      "Dataframe loaded. DF-shape (414619, 140)\n",
      "\n",
      "Loading file bac.final_analysis9_2016_2019-08-10.parquet...\n",
      "Dataframe loaded. DF-shape (268218, 140)\n",
      "\n",
      "Loading file bac.final_analysis9_2017_2019-08-10.parquet...\n",
      "Dataframe loaded. DF-shape (153173, 140)\n",
      "\n",
      "Final df has shape: (973264, 140)\n"
     ]
    },
    {
     "data": {
      "text/html": [
       "<div>\n",
       "<style scoped>\n",
       "    .dataframe tbody tr th:only-of-type {\n",
       "        vertical-align: middle;\n",
       "    }\n",
       "\n",
       "    .dataframe tbody tr th {\n",
       "        vertical-align: top;\n",
       "    }\n",
       "\n",
       "    .dataframe thead th {\n",
       "        text-align: right;\n",
       "    }\n",
       "</style>\n",
       "<table border=\"1\" class=\"dataframe\">\n",
       "  <thead>\n",
       "    <tr style=\"text-align: right;\">\n",
       "      <th></th>\n",
       "      <th>username</th>\n",
       "      <th>bac_level</th>\n",
       "      <th>bac_guess</th>\n",
       "      <th>bac_level_verified_sum</th>\n",
       "      <th>photo_count</th>\n",
       "      <th>drinks_count</th>\n",
       "      <th>note</th>\n",
       "      <th>timestamp_gmt</th>\n",
       "      <th>timestamp_converted_to_local</th>\n",
       "      <th>timezone</th>\n",
       "      <th>...</th>\n",
       "      <th>gas_tax_per_gal_2014</th>\n",
       "      <th>cig_tax_per_20pack_2014</th>\n",
       "      <th>spirit_tax_per_gal_2014</th>\n",
       "      <th>wine_tax_per_gal_2014</th>\n",
       "      <th>beer_tax_per_gal_2014</th>\n",
       "      <th>guess_number</th>\n",
       "      <th>episode</th>\n",
       "      <th>episode_3hr</th>\n",
       "      <th>episode_6hr</th>\n",
       "      <th>min_since_last_guess</th>\n",
       "    </tr>\n",
       "  </thead>\n",
       "  <tbody>\n",
       "    <tr>\n",
       "      <th>0</th>\n",
       "      <td>iSWQmQGkim-330i00</td>\n",
       "      <td>0.0</td>\n",
       "      <td>0.0</td>\n",
       "      <td>0</td>\n",
       "      <td>0</td>\n",
       "      <td>0</td>\n",
       "      <td></td>\n",
       "      <td>2013-12-18 05:34:00</td>\n",
       "      <td>2013-12-18 05:34:00</td>\n",
       "      <td>Africa/Accra</td>\n",
       "      <td>...</td>\n",
       "      <td>NaN</td>\n",
       "      <td>NaN</td>\n",
       "      <td>NaN</td>\n",
       "      <td>NaN</td>\n",
       "      <td>NaN</td>\n",
       "      <td>574.0</td>\n",
       "      <td>NaN</td>\n",
       "      <td>NaN</td>\n",
       "      <td>NaN</td>\n",
       "      <td>NaN</td>\n",
       "    </tr>\n",
       "    <tr>\n",
       "      <th>1</th>\n",
       "      <td>iSWQmQGkim-332i02</td>\n",
       "      <td>0.0</td>\n",
       "      <td>0.0</td>\n",
       "      <td>0</td>\n",
       "      <td>0</td>\n",
       "      <td>0</td>\n",
       "      <td></td>\n",
       "      <td>2013-07-22 11:51:00</td>\n",
       "      <td>2013-07-22 11:51:00</td>\n",
       "      <td>Africa/Accra</td>\n",
       "      <td>...</td>\n",
       "      <td>NaN</td>\n",
       "      <td>NaN</td>\n",
       "      <td>NaN</td>\n",
       "      <td>NaN</td>\n",
       "      <td>NaN</td>\n",
       "      <td>9.0</td>\n",
       "      <td>NaN</td>\n",
       "      <td>NaN</td>\n",
       "      <td>NaN</td>\n",
       "      <td>NaN</td>\n",
       "    </tr>\n",
       "    <tr>\n",
       "      <th>2</th>\n",
       "      <td>iSWQmQGkim-331206</td>\n",
       "      <td>0.0</td>\n",
       "      <td>0.0</td>\n",
       "      <td>0</td>\n",
       "      <td>0</td>\n",
       "      <td>0</td>\n",
       "      <td></td>\n",
       "      <td>2013-12-25 19:41:00</td>\n",
       "      <td>2013-12-25 19:41:00</td>\n",
       "      <td>Africa/Accra</td>\n",
       "      <td>...</td>\n",
       "      <td>NaN</td>\n",
       "      <td>NaN</td>\n",
       "      <td>NaN</td>\n",
       "      <td>NaN</td>\n",
       "      <td>NaN</td>\n",
       "      <td>412.0</td>\n",
       "      <td>NaN</td>\n",
       "      <td>NaN</td>\n",
       "      <td>NaN</td>\n",
       "      <td>NaN</td>\n",
       "    </tr>\n",
       "  </tbody>\n",
       "</table>\n",
       "<p>3 rows × 140 columns</p>\n",
       "</div>"
      ],
      "text/plain": [
       "            username  bac_level  bac_guess  bac_level_verified_sum  photo_count  drinks_count note       timestamp_gmt timestamp_converted_to_local      timezone  ... gas_tax_per_gal_2014  cig_tax_per_20pack_2014  spirit_tax_per_gal_2014 wine_tax_per_gal_2014 beer_tax_per_gal_2014  guess_number  episode  episode_3hr  episode_6hr  min_since_last_guess\n",
       "0  iSWQmQGkim-330i00        0.0        0.0                       0            0             0      2013-12-18 05:34:00          2013-12-18 05:34:00  Africa/Accra  ...                  NaN                      NaN                      NaN                   NaN                   NaN         574.0      NaN          NaN          NaN                   NaN\n",
       "1  iSWQmQGkim-332i02        0.0        0.0                       0            0             0      2013-07-22 11:51:00          2013-07-22 11:51:00  Africa/Accra  ...                  NaN                      NaN                      NaN                   NaN                   NaN           9.0      NaN          NaN          NaN                   NaN\n",
       "2  iSWQmQGkim-331206        0.0        0.0                       0            0             0      2013-12-25 19:41:00          2013-12-25 19:41:00  Africa/Accra  ...                  NaN                      NaN                      NaN                   NaN                   NaN         412.0      NaN          NaN          NaN                   NaN\n",
       "\n",
       "[3 rows x 140 columns]"
      ]
     },
     "execution_count": 5,
     "metadata": {},
     "output_type": "execute_result"
    }
   ],
   "source": [
    "def reassemble_date_partitioned_data(folder, filename):\n",
    "    # parquet files have been saved in a date-partitioned manner (by year) b/c redshift connection was breaking or taking too long during downloads\n",
    "    \n",
    "    df_list = []\n",
    "    prior_year=2013\n",
    "    for file_year in np.arange(prior_year, 2018):\n",
    "        try:\n",
    "            i = filename.find(str(prior_year))\n",
    "            filename = filename.replace(str(prior_year), str(file_year))# rename file\n",
    "            prior_year=file_year# advance counter\n",
    "            \n",
    "            print ('\\nLoading file {}...'.format(filename))\n",
    "            filepath = '/'.join([folder, filename])\n",
    "            df = pq.read_table(filepath).to_pandas()\n",
    "            print ('Dataframe loaded. DF-shape {}'.format(df.shape))\n",
    "            df_list.append(df)\n",
    "        except:\n",
    "            print ('Year {} not found in filename {}'.format(file_year, filename))\n",
    "\n",
    "    # Ideally, you'd check that the columns match\n",
    "    master_df = pd.concat(df_list, axis=0, ignore_index=True)\n",
    "    return master_df\n",
    "\n",
    "df = reassemble_date_partitioned_data(FOLDER, FILENAME)\n",
    "print ('\\nFinal df has shape: {}'.format(df.shape))\n",
    "df.head(3)"
   ]
  },
  {
   "cell_type": "markdown",
   "metadata": {},
   "source": [
    "### Prepare DF for Mixed Model"
   ]
  },
  {
   "cell_type": "code",
   "execution_count": 6,
   "metadata": {},
   "outputs": [
    {
     "data": {
      "text/plain": [
       "username                                     0\n",
       "bac_level                                    0\n",
       "bac_guess                                    0\n",
       "bac_level_verified_sum                       0\n",
       "photo_count                                  0\n",
       "drinks_count                                 0\n",
       "note                                         0\n",
       "timestamp_gmt                                0\n",
       "timestamp_converted_to_local            223674\n",
       "timezone                                     0\n",
       "timezone_from_geo                            0\n",
       "latitude                                     0\n",
       "longitude                                    0\n",
       "country                                      0\n",
       "place_name                                   0\n",
       "population                                   0\n",
       "elevation                                    0\n",
       "random_row                                   0\n",
       "n_bacs_measured                              0\n",
       "zip_code                                457740\n",
       "county                                  457740\n",
       "state_code                              457740\n",
       "game                                    967039\n",
       "state_game_played                       967039\n",
       "winner_state_code                       967039\n",
       "loser_state_code                        967039\n",
       "in_winning_state                             0\n",
       "in_losing_state                              0\n",
       "is_game                                      0\n",
       "holiday                                 891502\n",
       "                                         ...  \n",
       "avg_heavy_drinking_male                 457796\n",
       "avg_heavy_drinking_female               457796\n",
       "state                                   458262\n",
       "official_number_estimate                458262\n",
       "official_number_margin                  458262\n",
       "official_percent_estimate               458262\n",
       "official_percent_margin                 458262\n",
       "spm_number_estimate                     458262\n",
       "spm_number_margin                       458262\n",
       "spm_percent_estimate                    458262\n",
       "spm_percent_margin                      458262\n",
       "difference_number                       458262\n",
       "difference_percent                      458262\n",
       "statistically_significant_difference    458262\n",
       "gmt_lag                                  33452\n",
       "gmt_diff_min                                 0\n",
       "gmt_diff_hour                                0\n",
       "gmt_diff_days                                0\n",
       "state_name                              458262\n",
       "sales_tax_perc_2014                     458262\n",
       "gas_tax_per_gal_2014                    458262\n",
       "cig_tax_per_20pack_2014                 458262\n",
       "spirit_tax_per_gal_2014                 458262\n",
       "wine_tax_per_gal_2014                   485492\n",
       "beer_tax_per_gal_2014                   458262\n",
       "guess_number                              2520\n",
       "episode                                 723071\n",
       "episode_3hr                             672687\n",
       "episode_6hr                             698497\n",
       "min_since_last_guess                    262649\n",
       "Length: 140, dtype: int64"
      ]
     },
     "execution_count": 6,
     "metadata": {},
     "output_type": "execute_result"
    }
   ],
   "source": [
    "df.isnull().sum()"
   ]
  },
  {
   "cell_type": "code",
   "execution_count": 7,
   "metadata": {},
   "outputs": [
    {
     "data": {
      "text/plain": [
       "episode_ffill        7025\n",
       "episode_3hr_ffill    7025\n",
       "episode_6hr_ffill    7025\n",
       "dtype: int64"
      ]
     },
     "execution_count": 7,
     "metadata": {},
     "output_type": "execute_result"
    }
   ],
   "source": [
    "# Fill forward empty cells for Episode\n",
    "# -- Also, use this as a hack to refine which episode variable to use for the rest of these results\n",
    "fills = [\"episode\", \"episode_3hr\", \"episode_6hr\"]# note that episode is defined by a 12hr window\n",
    "fills = [fill+'_ffill' for fill in fills]\n",
    "for fill in fills:\n",
    "    df[fill] = df.episode_3hr.fillna(method='ffill')# forward fill\n",
    "\n",
    "# QA missing data should be the same for all episode variables\n",
    "df[fills].isnull().sum()\n",
    "# # BUG CHECK:  If 0 rows, then check was passed\n",
    "# df.loc[ (df.episode_3hr_ffill.isnull()==False) & (df.episode_ffill.isnull()==True) ].head(10)"
   ]
  },
  {
   "cell_type": "code",
   "execution_count": 8,
   "metadata": {},
   "outputs": [
    {
     "name": "stdout",
     "output_type": "stream",
     "text": [
      "Number of rows nrows excluded: 262649\n",
      "dropped for missingness: 167069\total rows dropped or excluded: 429718\n",
      "\n",
      "Sample size of original df: 973264\n",
      "reg_df after exclusions: 710615\n",
      "final after drops: 543546 \n",
      "final n-users: 27745\n"
     ]
    },
    {
     "data": {
      "text/html": [
       "<div>\n",
       "<style scoped>\n",
       "    .dataframe tbody tr th:only-of-type {\n",
       "        vertical-align: middle;\n",
       "    }\n",
       "\n",
       "    .dataframe tbody tr th {\n",
       "        vertical-align: top;\n",
       "    }\n",
       "\n",
       "    .dataframe thead th {\n",
       "        text-align: right;\n",
       "    }\n",
       "</style>\n",
       "<table border=\"1\" class=\"dataframe\">\n",
       "  <thead>\n",
       "    <tr style=\"text-align: right;\">\n",
       "      <th></th>\n",
       "      <th>username</th>\n",
       "      <th>timestamp_gmt</th>\n",
       "      <th>bac_level_verified_sum</th>\n",
       "      <th>timestamp_converted_to_local</th>\n",
       "      <th>min_since_last_guess</th>\n",
       "      <th>guess_number</th>\n",
       "      <th>bac_level</th>\n",
       "      <th>bac_guess</th>\n",
       "      <th>guess_delta</th>\n",
       "      <th>n_bacs</th>\n",
       "      <th>...</th>\n",
       "      <th>days_range_engaged</th>\n",
       "      <th>episode_ffill</th>\n",
       "      <th>episode_3hr_ffill</th>\n",
       "      <th>episode_6hr_ffill</th>\n",
       "      <th>abs_guess_delta</th>\n",
       "      <th>verified</th>\n",
       "      <th>date</th>\n",
       "      <th>year</th>\n",
       "      <th>dow</th>\n",
       "      <th>hour</th>\n",
       "    </tr>\n",
       "  </thead>\n",
       "  <tbody>\n",
       "    <tr>\n",
       "      <th>7041</th>\n",
       "      <td>iSWQmQGkim-332G44</td>\n",
       "      <td>2013-07-12 17:18:00</td>\n",
       "      <td>0</td>\n",
       "      <td>2013-07-12 17:18:00</td>\n",
       "      <td>2.0</td>\n",
       "      <td>23.0</td>\n",
       "      <td>0.020</td>\n",
       "      <td>0.0</td>\n",
       "      <td>-0.020</td>\n",
       "      <td>65</td>\n",
       "      <td>...</td>\n",
       "      <td>3.0</td>\n",
       "      <td>2.0</td>\n",
       "      <td>2.0</td>\n",
       "      <td>2.0</td>\n",
       "      <td>0.020</td>\n",
       "      <td>0</td>\n",
       "      <td>2013-07-12</td>\n",
       "      <td>2013</td>\n",
       "      <td>4</td>\n",
       "      <td>17</td>\n",
       "    </tr>\n",
       "    <tr>\n",
       "      <th>7042</th>\n",
       "      <td>iSWQmQGkim-33Q3G4</td>\n",
       "      <td>2013-12-21 13:57:00</td>\n",
       "      <td>0</td>\n",
       "      <td>2013-12-21 13:57:00</td>\n",
       "      <td>1.0</td>\n",
       "      <td>27.0</td>\n",
       "      <td>0.044</td>\n",
       "      <td>0.0</td>\n",
       "      <td>-0.044</td>\n",
       "      <td>173</td>\n",
       "      <td>...</td>\n",
       "      <td>232.0</td>\n",
       "      <td>2.0</td>\n",
       "      <td>2.0</td>\n",
       "      <td>2.0</td>\n",
       "      <td>0.044</td>\n",
       "      <td>0</td>\n",
       "      <td>2013-12-21</td>\n",
       "      <td>2013</td>\n",
       "      <td>5</td>\n",
       "      <td>13</td>\n",
       "    </tr>\n",
       "    <tr>\n",
       "      <th>7043</th>\n",
       "      <td>iSWQmQGkim-334362</td>\n",
       "      <td>2013-11-22 05:55:00</td>\n",
       "      <td>0</td>\n",
       "      <td>2013-11-22 05:55:00</td>\n",
       "      <td>1.0</td>\n",
       "      <td>38.0</td>\n",
       "      <td>0.149</td>\n",
       "      <td>0.0</td>\n",
       "      <td>-0.149</td>\n",
       "      <td>52</td>\n",
       "      <td>...</td>\n",
       "      <td>153.0</td>\n",
       "      <td>2.0</td>\n",
       "      <td>2.0</td>\n",
       "      <td>2.0</td>\n",
       "      <td>0.149</td>\n",
       "      <td>0</td>\n",
       "      <td>2013-11-22</td>\n",
       "      <td>2013</td>\n",
       "      <td>4</td>\n",
       "      <td>5</td>\n",
       "    </tr>\n",
       "  </tbody>\n",
       "</table>\n",
       "<p>3 rows × 21 columns</p>\n",
       "</div>"
      ],
      "text/plain": [
       "               username       timestamp_gmt  bac_level_verified_sum timestamp_converted_to_local  min_since_last_guess  guess_number  bac_level  bac_guess  guess_delta  n_bacs  ...  days_range_engaged  episode_ffill  episode_3hr_ffill  episode_6hr_ffill  abs_guess_delta  verified        date  year  dow  hour\n",
       "7041  iSWQmQGkim-332G44 2013-07-12 17:18:00                       0          2013-07-12 17:18:00                   2.0          23.0      0.020        0.0       -0.020      65  ...                 3.0            2.0                2.0                2.0            0.020         0  2013-07-12  2013    4    17\n",
       "7042  iSWQmQGkim-33Q3G4 2013-12-21 13:57:00                       0          2013-12-21 13:57:00                   1.0          27.0      0.044        0.0       -0.044     173  ...               232.0            2.0                2.0                2.0            0.044         0  2013-12-21  2013    5    13\n",
       "7043  iSWQmQGkim-334362 2013-11-22 05:55:00                       0          2013-11-22 05:55:00                   1.0          38.0      0.149        0.0       -0.149      52  ...               153.0            2.0                2.0                2.0            0.149         0  2013-11-22  2013    4     5\n",
       "\n",
       "[3 rows x 21 columns]"
      ]
     },
     "execution_count": 8,
     "metadata": {},
     "output_type": "execute_result"
    }
   ],
   "source": [
    "def create_regdf(df, cols):\n",
    "    # copy, dropna, report # rows dropped\n",
    "    n1 = df.shape[0]\n",
    "    reg_df = df[cols].copy()\n",
    "    \n",
    "    # As of 08-10-2019, this step was done in redshift before calculating episode & min_since_last_guess\n",
    "    reg_df = reg_df[(reg_df.bac_level>0) | (reg_df.bac_guess>0)]\n",
    "    n2 = reg_df.shape[0]\n",
    "    n2users = reg_df.username.unique().shape[0]\n",
    "    \n",
    "    reg_df = reg_df.dropna()\n",
    "    n3 = reg_df.shape[0]\n",
    "    n3users = reg_df.username.unique().shape[0]\n",
    "    \n",
    "    print ('Number of rows nrows excluded: {}\\ndropped for missingness: {}\\total rows dropped or excluded: {}'.format(n1-n2, n2-n3, n1-n3))\n",
    "    print ('\\nSample size of original df: {}\\nreg_df after exclusions: {}\\nfinal after drops: {} \\nfinal n-users: {}'.format(n1, n2, n3, n3users))\n",
    "    return reg_df\n",
    "\n",
    "def add_features(df):\n",
    "    # Consider that once you aggregate over episode these timestamp extractions mostly aren't meaningful...\n",
    "    df['abs_guess_delta']=np.abs(df.guess_delta)\n",
    "    df['verified']=(df.bac_level_verified_sum>0).astype(int)\n",
    "    df['date'] = df['timestamp_converted_to_local'].dt.date\n",
    "    df['year'] = df['timestamp_converted_to_local'].dt.year\n",
    "    df['dow'] = df['timestamp_converted_to_local'].dt.weekday# M=0... Sn=6\n",
    "    df['hour'] = df['timestamp_converted_to_local'].dt.hour\n",
    "    return df\n",
    "\n",
    "\n",
    "cols = [\"username\", \"timestamp_gmt\", \"bac_level_verified_sum\",\"timestamp_converted_to_local\",  \n",
    "          \"min_since_last_guess\",\"guess_number\",\"bac_level\", \"bac_guess\",\"guess_delta\",\n",
    "          \"n_bacs\",\"n_bac_days\",\"days_range_engaged\"]\n",
    "cols.extend(fills)\n",
    "\n",
    "reg_df = create_regdf(df, cols)\n",
    "reg_df.sort_values(by=[\"username\",\"episode_ffill\"])\n",
    "\n",
    "# Add features\n",
    "reg_df = add_features(reg_df)\n",
    "\n",
    "reg_df.head(3)"
   ]
  },
  {
   "cell_type": "markdown",
   "metadata": {},
   "source": [
    "### Do people with un-verified observations have higher bac levels, as you might expect?  How much higher?"
   ]
  },
  {
   "cell_type": "code",
   "execution_count": 9,
   "metadata": {},
   "outputs": [],
   "source": [
    "def get_descriptives(df, dv, group):\n",
    "    BOLD = '\\033[1m'; END = '\\033[0m'\n",
    "    # Get the actual means & se\n",
    "    means = [m[0] for m in df[[dv, group]].groupby(group).mean().round(3).values]\n",
    "    stddevs = [s[0] for s in df[[dv, group]].groupby(group).std().round(3).values]\n",
    "    counts = [c[0] for c in df[[dv, group]].groupby(group).count().round(3).values]\n",
    "    sems = stddevs/np.sqrt(counts)\n",
    "    print (BOLD+'\\nDescriptives\\n','-'*60+END)\n",
    "    print ('Group: Unverified=0, Verified=1')\n",
    "    print ('Means: ', means)\n",
    "    print ('SEMS: ', sems)\n",
    "    print ('STDDEV: ', stddevs)\n",
    "    print ('Ns: ', counts)\n",
    "    print ('-'*60,'\\n')"
   ]
  },
  {
   "cell_type": "code",
   "execution_count": 10,
   "metadata": {},
   "outputs": [
    {
     "name": "stderr",
     "output_type": "stream",
     "text": [
      "/Users/KAschbacher/anaconda3/lib/python3.7/site-packages/statsmodels/regression/mixed_linear_model.py:2094: ConvergenceWarning: The MLE may be on the boundary of the parameter space.\n",
      "  warnings.warn(msg, ConvergenceWarning)\n"
     ]
    },
    {
     "name": "stdout",
     "output_type": "stream",
     "text": [
      "\u001b[1m\n",
      "Descriptives\n",
      " ------------------------------------------------------------\u001b[0m\n",
      "Group: Unverified=0, Verified=1\n",
      "Means:  [0.09, 0.076]\n",
      "SEMS:  [2.34434536e-04 9.52127976e-05]\n",
      "STDDEV:  [0.071, 0.064]\n",
      "Ns:  [91722, 451824]\n",
      "------------------------------------------------------------ \n",
      "\n"
     ]
    },
    {
     "data": {
      "text/html": [
       "<table class=\"simpletable\">\n",
       "<tr>\n",
       "       <td>Model:</td>       <td>MixedLM</td> <td>Dependent Variable:</td>  <td>bac_level</td> \n",
       "</tr>\n",
       "<tr>\n",
       "  <td>No. Observations:</td> <td>543546</td>        <td>Method:</td>          <td>REML</td>    \n",
       "</tr>\n",
       "<tr>\n",
       "     <td>No. Groups:</td>     <td>27745</td>        <td>Scale:</td>          <td>0.0034</td>   \n",
       "</tr>\n",
       "<tr>\n",
       "  <td>Min. group size:</td>     <td>1</td>        <td>Likelihood:</td>     <td>752088.0296</td>\n",
       "</tr>\n",
       "<tr>\n",
       "  <td>Max. group size:</td>   <td>2154</td>       <td>Converged:</td>          <td>Yes</td>    \n",
       "</tr>\n",
       "<tr>\n",
       "  <td>Mean group size:</td>   <td>19.6</td>            <td></td>                <td></td>      \n",
       "</tr>\n",
       "</table>\n",
       "<table class=\"simpletable\">\n",
       "<tr>\n",
       "        <td></td>        <th>Coef.</th> <th>Std.Err.</th>    <th>z</th>    <th>P>|z|</th> <th>[0.025</th> <th>0.975]</th>\n",
       "</tr>\n",
       "<tr>\n",
       "  <th>Intercept</th>     <td>0.091</td>   <td>0.000</td>  <td>256.905</td> <td>0.000</td>  <td>0.090</td>  <td>0.091</td>\n",
       "</tr>\n",
       "<tr>\n",
       "  <th>verified</th>     <td>-0.017</td>   <td>0.000</td>  <td>-52.623</td> <td>0.000</td> <td>-0.017</td> <td>-0.016</td>\n",
       "</tr>\n",
       "<tr>\n",
       "  <th>username Var</th>  <td>0.001</td>   <td>0.000</td>     <td></td>       <td></td>       <td></td>       <td></td>   \n",
       "</tr>\n",
       "</table>"
      ],
      "text/plain": [
       "<class 'statsmodels.iolib.summary2.Summary'>\n",
       "\"\"\"\n",
       "          Mixed Linear Model Regression Results\n",
       "=========================================================\n",
       "Model:            MixedLM Dependent Variable: bac_level  \n",
       "No. Observations: 543546  Method:             REML       \n",
       "No. Groups:       27745   Scale:              0.0034     \n",
       "Min. group size:  1       Likelihood:         752088.0296\n",
       "Max. group size:  2154    Converged:          Yes        \n",
       "Mean group size:  19.6                                   \n",
       "---------------------------------------------------------\n",
       "              Coef.  Std.Err.    z    P>|z| [0.025 0.975]\n",
       "---------------------------------------------------------\n",
       "Intercept      0.091    0.000 256.905 0.000  0.090  0.091\n",
       "verified      -0.017    0.000 -52.623 0.000 -0.017 -0.016\n",
       "username Var   0.001    0.000                            \n",
       "=========================================================\n",
       "\n",
       "\"\"\""
      ]
     },
     "execution_count": 10,
     "metadata": {},
     "output_type": "execute_result"
    }
   ],
   "source": [
    "def unverified_analyses(df):\n",
    "    # Mixed Linear Model to Test this Hypotheis...\n",
    "    # -- H: If you measure BrAC immediately after drinking, fumes in your mouth spuriously inflate the BrAC reading above what your true blood alcohol level is.\n",
    "    model = smf.mixedlm('bac_level ~ verified', df, groups='username')\n",
    "    mdf = model.fit()\n",
    "    get_descriptives(df=df, dv='bac_level', group='verified')\n",
    "    return mdf\n",
    "    \n",
    "mdf = unverified_analyses(reg_df)\n",
    "mdf.summary()"
   ]
  },
  {
   "cell_type": "markdown",
   "metadata": {},
   "source": [
    "### Limit to Verified Observations:  Save for BrAC_Discrimination.ipynb (R)"
   ]
  },
  {
   "cell_type": "code",
   "execution_count": 11,
   "metadata": {},
   "outputs": [
    {
     "name": "stdout",
     "output_type": "stream",
     "text": [
      "Out of 543546 observations, 91722 were dropped because they were unverified\n",
      "Out of 27745 unique users, 1040 were dropped because they were unverified\n"
     ]
    }
   ],
   "source": [
    "def limit_verified(df, col_name):\n",
    "    pre = df.shape[0]\n",
    "    preuser = df.username.unique().shape[0]\n",
    "    df = df.loc[df[col_name]>0]\n",
    "    post = df.shape[0]\n",
    "    postuser = df.username.unique().shape[0]\n",
    "    print ('Out of {} observations, {} were dropped because they were unverified'.format(pre, pre-post))\n",
    "    print ('Out of {} unique users, {} were dropped because they were unverified'.format(preuser, preuser-postuser))\n",
    "    return df\n",
    "\n",
    "def save_verified(df, folder):\n",
    "    filename = 'bac_BrAC_Discrimination_{}.csv'.format(TODAY)\n",
    "    filepath = '/'.join([folder, filename])\n",
    "    df.to_csv(filepath, sep=',', index=False)\n",
    "    \n",
    "reg_df = limit_verified(df=reg_df, col_name='verified')\n",
    "save_verified(reg_df, FOLDER)"
   ]
  },
  {
   "cell_type": "markdown",
   "metadata": {},
   "source": [
    "### Limit to the first few episodes of self-monitoring - we should see improvement quickly"
   ]
  },
  {
   "cell_type": "code",
   "execution_count": 12,
   "metadata": {},
   "outputs": [
    {
     "name": "stdout",
     "output_type": "stream",
     "text": [
      "new shape of df: (265269, 21)\n"
     ]
    },
    {
     "data": {
      "image/png": "[encoded data removed]",
      "text/plain": [
       "<Figure size 432x288 with 1 Axes>"
      ]
     },
     "metadata": {
      "needs_background": "light"
     },
     "output_type": "display_data"
    }
   ],
   "source": [
    "def limit_episodes(df, n_episodes):\n",
    "    df = df.loc[df.episode_ffill<=n_episodes]\n",
    "    print ('new shape of df:', df.shape)\n",
    "    df.episode_ffill.hist(bins=100, color='b')\n",
    "    plt.grid(False)\n",
    "    return df\n",
    "\n",
    "n_episodes = 5\n",
    "reg_df = limit_episodes(reg_df, n_episodes)"
   ]
  },
  {
   "cell_type": "code",
   "execution_count": 13,
   "metadata": {},
   "outputs": [
    {
     "name": "stdout",
     "output_type": "stream",
     "text": [
      "Shape of user-episode aggregated DF: (85257, 6)\n",
      "\n",
      "     username  episode_ffill  bac_level  guess_delta  abs_guess_delta  episode_ffill_sq\n",
      "0   RmQkcjj60            1.0     0.0460     0.007333         0.018667               1.0\n",
      "1   RmQkcjj60            2.0     0.0410     0.024000         0.024000               4.0\n",
      "2   RmQkcjj60            3.0     0.0275     0.017500         0.017500               9.0\n"
     ]
    },
    {
     "data": {
      "image/png": "[encoded data removed]",
      "text/plain": [
       "<Figure size 360x144 with 1 Axes>"
      ]
     },
     "metadata": {
      "needs_background": "light"
     },
     "output_type": "display_data"
    }
   ],
   "source": [
    "### Aggregate over episode and extract weekend/ hour_binned as features\n",
    "def define_episode_df(df, cols, episode, var):\n",
    "    # Aggregate\n",
    "    epi_df = df[cols].groupby([\"username\", episode]).mean().reset_index()\n",
    "    epi_df[episode+'_sq']=epi_df[episode]*epi_df[episode]\n",
    "    print ('Shape of user-episode aggregated DF: {}\\n'.format(epi_df.shape))\n",
    "    print (epi_df.head(3))\n",
    "    \n",
    "    # Plot\n",
    "    epi_df[var].hist(bins=100, color='b', alpha=.35, figsize=(5,2))\n",
    "    plt.grid(False)\n",
    "    plt.title(\"Histogram of {}, Aggregated by username-episode\".format(var))\n",
    "\n",
    "    return epi_df\n",
    "\n",
    "cols = [\"username\",\"episode_ffill\",\"bac_level\",\"guess_delta\",\"abs_guess_delta\"]\n",
    "epi_df = define_episode_df(df=reg_df, cols=cols, episode=\"episode_ffill\", var=\"guess_delta\")"
   ]
  },
  {
   "cell_type": "markdown",
   "metadata": {},
   "source": [
    "### Try Mixed Model in BACtrack"
   ]
  },
  {
   "cell_type": "code",
   "execution_count": 14,
   "metadata": {},
   "outputs": [
    {
     "data": {
      "text/plain": [
       "<matplotlib.axes._subplots.AxesSubplot at 0x1c349d9048>"
      ]
     },
     "execution_count": 14,
     "metadata": {},
     "output_type": "execute_result"
    },
    {
     "data": {
      "image/png": "[encoded data removed]",
      "text/plain": [
       "<Figure size 432x288 with 1 Axes>"
      ]
     },
     "metadata": {
      "needs_background": "light"
     },
     "output_type": "display_data"
    }
   ],
   "source": [
    "#plt.scatter(epi_df['episode_ffill'], epi_df['guess_delta'])\n",
    "sns.boxplot(epi_df['episode_ffill'], epi_df['guess_delta'])"
   ]
  },
  {
   "cell_type": "code",
   "execution_count": 15,
   "metadata": {},
   "outputs": [
    {
     "data": {
      "text/plain": [
       "<matplotlib.axes._subplots.AxesSubplot at 0x1c34cdbef0>"
      ]
     },
     "execution_count": 15,
     "metadata": {},
     "output_type": "execute_result"
    },
    {
     "data": {
      "image/png": "[encoded data removed]",
      "text/plain": [
       "<Figure size 432x288 with 1 Axes>"
      ]
     },
     "metadata": {
      "needs_background": "light"
     },
     "output_type": "display_data"
    }
   ],
   "source": [
    "sns.boxplot(epi_df['episode_ffill'], epi_df['abs_guess_delta'])"
   ]
  },
  {
   "cell_type": "markdown",
   "metadata": {},
   "source": [
    "### Mixed Models:  \n",
    "#### Hypothesis: BrAC Discrimination improves within the first few episodes of self-monitoring.\n",
    "<p> We may need to use abs_discrimination so that over- and under-estimates do not cancel each other out</p>\n",
    "<p> Still considering whether or not to add a quadratic term - while more accurate may lead to convergence issues</p>"
   ]
  },
  {
   "cell_type": "code",
   "execution_count": 16,
   "metadata": {},
   "outputs": [
    {
     "name": "stderr",
     "output_type": "stream",
     "text": [
      "/Users/KAschbacher/anaconda3/lib/python3.7/site-packages/statsmodels/regression/mixed_linear_model.py:2094: ConvergenceWarning: The MLE may be on the boundary of the parameter space.\n",
      "  warnings.warn(msg, ConvergenceWarning)\n"
     ]
    },
    {
     "name": "stdout",
     "output_type": "stream",
     "text": [
      "            Mixed Linear Model Regression Results\n",
      "=============================================================\n",
      "Model:            MixedLM Dependent Variable: abs_guess_delta\n",
      "No. Observations: 85257   Method:             REML           \n",
      "No. Groups:       26533   Scale:              0.0016         \n",
      "Min. group size:  1       Likelihood:         141129.7718    \n",
      "Max. group size:  5       Converged:          Yes            \n",
      "Mean group size:  3.2                                        \n",
      "-------------------------------------------------------------\n",
      "                  Coef.  Std.Err.    z    P>|z| [0.025 0.975]\n",
      "-------------------------------------------------------------\n",
      "Intercept          0.056    0.000 164.252 0.000  0.055  0.057\n",
      "episode_ffill     -0.001    0.000  -7.454 0.000 -0.001 -0.001\n",
      "Group Var          0.001    0.000                            \n",
      "=============================================================\n",
      "\n"
     ]
    }
   ],
   "source": [
    "# Absolute Guess Delta\n",
    "md = smf.mixedlm(\"abs_guess_delta ~ episode_ffill\", epi_df, groups=epi_df[\"username\"])\n",
    "mdf = md.fit()\n",
    "print(mdf.summary())"
   ]
  },
  {
   "cell_type": "code",
   "execution_count": 17,
   "metadata": {},
   "outputs": [
    {
     "name": "stdout",
     "output_type": "stream",
     "text": [
      "Upper -0.177 and lower 0.05 quantiles, given alpha of 0.05\n",
      "debug lpb {} ubp 0.025 0.975\n"
     ]
    },
    {
     "data": {
      "text/plain": [
       "<matplotlib.axes._subplots.AxesSubplot at 0x1c31f73b70>"
      ]
     },
     "execution_count": 17,
     "metadata": {},
     "output_type": "execute_result"
    },
    {
     "data": {
      "image/png": "[encoded data removed]",
      "text/plain": [
       "<Figure size 432x288 with 1 Axes>"
      ]
     },
     "metadata": {
      "needs_background": "light"
     },
     "output_type": "display_data"
    }
   ],
   "source": [
    "def get_cutpoints(df, alpha):\n",
    "    # Determine criteria for outliers\n",
    "    lbp = alpha/2\n",
    "    ubp = 1-(alpha/2)\n",
    "    lb = df.guess_delta.quantile(lbp).round(4)\n",
    "    ub = df.guess_delta.quantile(ubp).round(4)\n",
    "    print ('Upper {} and lower {} quantiles, given alpha of {}'.format(lb, ub, alpha))\n",
    "    print ('debug lpb {} ubp', lbp, ubp)\n",
    "    return lb, ub\n",
    "\n",
    "# Cut outliers\n",
    "lb, ub = get_cutpoints(df=epi_df, alpha=.05)\n",
    "epi_df = epi_df[(epi_df.guess_delta>lb) & (epi_df.guess_delta<ub)]\n",
    "sns.boxplot(epi_df['episode_ffill'], epi_df['guess_delta'])"
   ]
  },
  {
   "cell_type": "code",
   "execution_count": 18,
   "metadata": {},
   "outputs": [
    {
     "name": "stderr",
     "output_type": "stream",
     "text": [
      "/Users/KAschbacher/anaconda3/lib/python3.7/site-packages/statsmodels/regression/mixed_linear_model.py:2094: ConvergenceWarning: The MLE may be on the boundary of the parameter space.\n",
      "  warnings.warn(msg, ConvergenceWarning)\n"
     ]
    },
    {
     "name": "stdout",
     "output_type": "stream",
     "text": [
      "          Mixed Linear Model Regression Results\n",
      "==========================================================\n",
      "Model:             MixedLM Dependent Variable: guess_delta\n",
      "No. Observations:  80833   Method:             REML       \n",
      "No. Groups:        26056   Scale:              0.0013     \n",
      "Min. group size:   1       Likelihood:         140652.8750\n",
      "Max. group size:   5       Converged:          Yes        \n",
      "Mean group size:   3.1                                    \n",
      "----------------------------------------------------------\n",
      "              Coef.  Std.Err.    z     P>|z| [0.025 0.975]\n",
      "----------------------------------------------------------\n",
      "Intercept     -0.040    0.000 -124.969 0.000 -0.041 -0.040\n",
      "episode_ffill  0.001    0.000    8.382 0.000  0.001  0.001\n",
      "Group Var      0.001    0.000                             \n",
      "==========================================================\n",
      "\n",
      "N distinct users... 26056\n"
     ]
    }
   ],
   "source": [
    "md = smf.mixedlm(\"guess_delta ~ episode_ffill\", epi_df, groups=epi_df[\"username\"])\n",
    "mdf = md.fit()\n",
    "print(mdf.summary())\n",
    "print ('N distinct users...',epi_df.username.unique().shape[0])"
   ]
  },
  {
   "cell_type": "markdown",
   "metadata": {},
   "source": [
    "## This is probably the right analysis to report in the paper"
   ]
  },
  {
   "cell_type": "code",
   "execution_count": 19,
   "metadata": {},
   "outputs": [
    {
     "name": "stderr",
     "output_type": "stream",
     "text": [
      "/Users/KAschbacher/anaconda3/lib/python3.7/site-packages/statsmodels/regression/mixed_linear_model.py:2094: ConvergenceWarning: The MLE may be on the boundary of the parameter space.\n",
      "  warnings.warn(msg, ConvergenceWarning)\n"
     ]
    },
    {
     "name": "stdout",
     "output_type": "stream",
     "text": [
      "            Mixed Linear Model Regression Results\n",
      "=============================================================\n",
      "Model:            MixedLM Dependent Variable: abs_guess_delta\n",
      "No. Observations: 80833   Method:             REML           \n",
      "No. Groups:       26056   Scale:              0.0010         \n",
      "Min. group size:  1       Likelihood:         153377.7198    \n",
      "Max. group size:  5       Converged:          Yes            \n",
      "Mean group size:  3.1                                        \n",
      "-------------------------------------------------------------\n",
      "                  Coef.  Std.Err.    z    P>|z| [0.025 0.975]\n",
      "-------------------------------------------------------------\n",
      "Intercept          0.052    0.000 190.919 0.000  0.052  0.053\n",
      "episode_ffill     -0.002    0.000 -18.809 0.000 -0.002 -0.001\n",
      "Group Var          0.001    0.000                            \n",
      "=============================================================\n",
      "\n",
      "N distinct users... 26056\n"
     ]
    }
   ],
   "source": [
    "# Absolute Guess Delta - try it again with the extreme points removed\n",
    "md = smf.mixedlm(\"abs_guess_delta ~ episode_ffill\", epi_df, groups=epi_df[\"username\"])\n",
    "mdf = md.fit()\n",
    "print(mdf.summary())\n",
    "print ('N distinct users...',epi_df.username.unique().shape[0])"
   ]
  },
  {
   "cell_type": "code",
   "execution_count": 20,
   "metadata": {},
   "outputs": [
    {
     "name": "stderr",
     "output_type": "stream",
     "text": [
      "/Users/KAschbacher/anaconda3/lib/python3.7/site-packages/statsmodels/regression/mixed_linear_model.py:2094: ConvergenceWarning: The MLE may be on the boundary of the parameter space.\n",
      "  warnings.warn(msg, ConvergenceWarning)\n"
     ]
    },
    {
     "name": "stdout",
     "output_type": "stream",
     "text": [
      "            Mixed Linear Model Regression Results\n",
      "=============================================================\n",
      "Model:            MixedLM Dependent Variable: abs_guess_delta\n",
      "No. Observations: 80833   Method:             REML           \n",
      "No. Groups:       26056   Scale:              0.0010         \n",
      "Min. group size:  1       Likelihood:         153447.2798    \n",
      "Max. group size:  5       Converged:          Yes            \n",
      "Mean group size:  3.1                                        \n",
      "-------------------------------------------------------------\n",
      "                  Coef.  Std.Err.    z    P>|z| [0.025 0.975]\n",
      "-------------------------------------------------------------\n",
      "Intercept          0.058    0.001 114.722 0.000  0.057  0.059\n",
      "episode_ffill     -0.007    0.000 -16.121 0.000 -0.007 -0.006\n",
      "episode_ffill_sq   0.001    0.000  12.517 0.000  0.001  0.001\n",
      "Group Var          0.001    0.000                            \n",
      "=============================================================\n",
      "\n",
      "N distinct users... 26056\n"
     ]
    }
   ],
   "source": [
    "# Absolute Guess Delta - add a quadratic term\n",
    "md = smf.mixedlm(\"abs_guess_delta ~ episode_ffill + episode_ffill_sq\", epi_df, groups=epi_df[\"username\"])\n",
    "mdf = md.fit()#Fit a model in which the fixed effects parameters are penalized\n",
    "print(mdf.summary())\n",
    "print ('N distinct users...',epi_df.username.unique().shape[0])"
   ]
  },
  {
   "cell_type": "markdown",
   "metadata": {},
   "source": [
    "### Bar Plot in Matplotlib"
   ]
  },
  {
   "cell_type": "code",
   "execution_count": 21,
   "metadata": {},
   "outputs": [],
   "source": [
    "# def get_barplot_data(df, episode, user):\n",
    "#     print (episode, user)\n",
    "#     # don't round too much, because it obscures the small but significant differences\n",
    "#     means = df.groupby(df[episode]).mean().round(6).reset_index()\n",
    "#     sems = df.groupby(df[episode]).std().round(4).reset_index()/np.sqrt(df.shape[0])\n",
    "#     counts = df.groupby(df[episode]).count().reset_index().drop(columns=episode)\n",
    "#     counts = counts.rename(columns={user:'n_observations_per_episode'})\n",
    "#     ns = [n[0] for n in counts.values]\n",
    "#     print (means,'\\n')\n",
    "#     print ('Counts: ',ns)\n",
    "#     return means, sems, ns\n",
    "\n",
    "# kwargs = {\n",
    "#     \"df\":epi_df, \n",
    "#     \"user\":\"username\", \n",
    "#     \"episode\":\"episode_ffill\"\n",
    "# }\n",
    "\n",
    "# means, sems, ns = get_barplot_data(**kwargs)\n",
    "\n",
    "# def make_figure(fig, means, sems, ns):\n",
    "#     ### Define Quantities\n",
    "#     iv = \"abs_guess_delta\"\n",
    "#     xlabel = 'Self-Monitoring Episode'\n",
    "#     ylabel = \"BrAC Discrimination (Abs)\"\n",
    "#     x = means[iv].values\n",
    "#     y = np.arange(len(x))+1\n",
    "#     err = sems[iv].values\n",
    "    \n",
    "#     ### Define how many episodes to plot.  Default would be length(x)\n",
    "#     #n_episodes = len(x)\n",
    "#     n_episodes = 5\n",
    "    \n",
    "#     ### Plot Values\n",
    "#     plt.bar(y[:n_episodes], x[:n_episodes], align='center', alpha=.5, yerr=err[:n_episodes])\n",
    "#     plt.ylim(.04, .06)\n",
    "#     plt.xlabel(xlabel, fontsize=14)\n",
    "#     plt.ylabel(ylabel, fontsize=16)\n",
    "\n",
    "# fig = plt.figure()\n",
    "# make_figure(fig, means, sems, ns)\n",
    "\n",
    "# ### Save Figure (Note, you have to save the figure before you show it; is not necessary to return fig)\n",
    "# fig_format = \"pdf\"\n",
    "# figname = \"BrAC_Discrimination_by_Episode_{}.{}\".format(TODAY, fig_format)\n",
    "# figpath = \"/\".join([FIG_FOLDER, figname])\n",
    "# plt.savefig(figpath, dpi=600, bbox_inches=\"tight\")\n",
    "# print ('Figure saved to:\\n{}'.format(figpath))\n",
    "# plt.show()"
   ]
  },
  {
   "cell_type": "code",
   "execution_count": 32,
   "metadata": {},
   "outputs": [
    {
     "name": "stdout",
     "output_type": "stream",
     "text": [
      "Figure saved to:\n",
      "/Users/KAschbacher/Dropbox/BACTrack/BACTrack/BrAC_Discrimination_by_Episode_2021-03-07.pdf\n"
     ]
    },
    {
     "data": {
      "image/png": "[encoded data removed]",
      "text/plain": [
       "<Figure size 432x288 with 1 Axes>"
      ]
     },
     "metadata": {},
     "output_type": "display_data"
    }
   ],
   "source": [
    "# Try Seaborn bar graph to see if that looks better\n",
    "\n",
    "xlabel = 'Self-Monitoring Episode'\n",
    "ylabel = \"BrAC Discrimination (Abs) g/dL\"\n",
    "epi_df[\"episode_ffill\"] = epi_df[\"episode_ffill\"].astype(int)\n",
    "\n",
    "#fig = plt.Figure(figsize=(3,2))# not sure this affects the size here\n",
    "sns.set(style=\"whitegrid\")\n",
    "ax = sns.barplot(x=\"episode_ffill\", y=\"abs_guess_delta\", data=epi_df, estimator=np.median, \\\n",
    "                 palette=\"Blues_d\", saturation=.75, ci=95, errcolor=\".4\", errwidth=\"2\")\n",
    "plt.xlabel(xlabel, fontsize=14)\n",
    "plt.ylabel(ylabel, fontsize=14)\n",
    "plt.ylim(0, .05)\n",
    "\n",
    "### Save Figure (Note, you have to save the figure before you show it; is not necessary to return fig)\n",
    "fig_format = \"pdf\"\n",
    "figname = \"BrAC_Discrimination_by_Episode_{}.{}\".format(TODAY, fig_format)\n",
    "figpath = \"/\".join([FIG_FOLDER, figname])\n",
    "plt.savefig(figpath, dpi=600, bbox_inches=\"tight\")\n",
    "print ('Figure saved to:\\n{}'.format(figpath))\n",
    "plt.show()"
   ]
  },
  {
   "cell_type": "code",
   "execution_count": null,
   "metadata": {},
   "outputs": [],
   "source": [
    "# # https://www.statsmodels.org/devel/examples/notebooks/generated/mixed_lm_example.html\n",
    "# # -- currently not working\n",
    "# %R print(summary(lmer('guess_delta ~ episode_ffill', data=epi_df)))"
   ]
  },
  {
   "cell_type": "code",
   "execution_count": 17,
   "metadata": {},
   "outputs": [
    {
     "data": {
      "text/html": [
       "<div>\n",
       "<style scoped>\n",
       "    .dataframe tbody tr th:only-of-type {\n",
       "        vertical-align: middle;\n",
       "    }\n",
       "\n",
       "    .dataframe tbody tr th {\n",
       "        vertical-align: top;\n",
       "    }\n",
       "\n",
       "    .dataframe thead th {\n",
       "        text-align: right;\n",
       "    }\n",
       "</style>\n",
       "<table border=\"1\" class=\"dataframe\">\n",
       "  <thead>\n",
       "    <tr style=\"text-align: right;\">\n",
       "      <th></th>\n",
       "      <th>username</th>\n",
       "      <th>episode_ffill</th>\n",
       "      <th>bac_level</th>\n",
       "      <th>guess_delta</th>\n",
       "      <th>abs_guess_delta</th>\n",
       "      <th>episode_ffill_sq</th>\n",
       "    </tr>\n",
       "  </thead>\n",
       "  <tbody>\n",
       "    <tr>\n",
       "      <th>0</th>\n",
       "      <td>RmQkcjj60</td>\n",
       "      <td>1</td>\n",
       "      <td>0.0460</td>\n",
       "      <td>0.007333</td>\n",
       "      <td>0.018667</td>\n",
       "      <td>1.0</td>\n",
       "    </tr>\n",
       "    <tr>\n",
       "      <th>1</th>\n",
       "      <td>RmQkcjj60</td>\n",
       "      <td>2</td>\n",
       "      <td>0.0410</td>\n",
       "      <td>0.024000</td>\n",
       "      <td>0.024000</td>\n",
       "      <td>4.0</td>\n",
       "    </tr>\n",
       "    <tr>\n",
       "      <th>2</th>\n",
       "      <td>RmQkcjj60</td>\n",
       "      <td>3</td>\n",
       "      <td>0.0275</td>\n",
       "      <td>0.017500</td>\n",
       "      <td>0.017500</td>\n",
       "      <td>9.0</td>\n",
       "    </tr>\n",
       "    <tr>\n",
       "      <th>3</th>\n",
       "      <td>RmQkcjj60</td>\n",
       "      <td>4</td>\n",
       "      <td>0.0500</td>\n",
       "      <td>-0.010000</td>\n",
       "      <td>0.010000</td>\n",
       "      <td>16.0</td>\n",
       "    </tr>\n",
       "    <tr>\n",
       "      <th>4</th>\n",
       "      <td>RmQkcjj60</td>\n",
       "      <td>5</td>\n",
       "      <td>0.0150</td>\n",
       "      <td>0.015000</td>\n",
       "      <td>0.015000</td>\n",
       "      <td>25.0</td>\n",
       "    </tr>\n",
       "  </tbody>\n",
       "</table>\n",
       "</div>"
      ],
      "text/plain": [
       "     username  episode_ffill  bac_level  guess_delta  abs_guess_delta  episode_ffill_sq\n",
       "0   RmQkcjj60              1     0.0460     0.007333         0.018667               1.0\n",
       "1   RmQkcjj60              2     0.0410     0.024000         0.024000               4.0\n",
       "2   RmQkcjj60              3     0.0275     0.017500         0.017500               9.0\n",
       "3   RmQkcjj60              4     0.0500    -0.010000         0.010000              16.0\n",
       "4   RmQkcjj60              5     0.0150     0.015000         0.015000              25.0"
      ]
     },
     "execution_count": 17,
     "metadata": {},
     "output_type": "execute_result"
    }
   ],
   "source": [
    "epi_df.head()"
   ]
  },
  {
   "cell_type": "code",
   "execution_count": 21,
   "metadata": {},
   "outputs": [],
   "source": [
    "cols = [\"username\", \"episode_ffill\", \"abs_guess_delta\"]\n",
    "user_episode = epi_df[cols].groupby([\"username\", \"episode_ffill\"]).mean()"
   ]
  },
  {
   "cell_type": "code",
   "execution_count": 23,
   "metadata": {},
   "outputs": [],
   "source": [
    "episode = user_episode.groupby(\"episode_ffill\").count()"
   ]
  },
  {
   "cell_type": "code",
   "execution_count": 24,
   "metadata": {},
   "outputs": [
    {
     "data": {
      "text/html": [
       "<div>\n",
       "<style scoped>\n",
       "    .dataframe tbody tr th:only-of-type {\n",
       "        vertical-align: middle;\n",
       "    }\n",
       "\n",
       "    .dataframe tbody tr th {\n",
       "        vertical-align: top;\n",
       "    }\n",
       "\n",
       "    .dataframe thead th {\n",
       "        text-align: right;\n",
       "    }\n",
       "</style>\n",
       "<table border=\"1\" class=\"dataframe\">\n",
       "  <thead>\n",
       "    <tr style=\"text-align: right;\">\n",
       "      <th></th>\n",
       "      <th>abs_guess_delta</th>\n",
       "    </tr>\n",
       "    <tr>\n",
       "      <th>episode_ffill</th>\n",
       "      <th></th>\n",
       "    </tr>\n",
       "  </thead>\n",
       "  <tbody>\n",
       "    <tr>\n",
       "      <th>1</th>\n",
       "      <td>25503</td>\n",
       "    </tr>\n",
       "    <tr>\n",
       "      <th>2</th>\n",
       "      <td>19292</td>\n",
       "    </tr>\n",
       "    <tr>\n",
       "      <th>3</th>\n",
       "      <td>15676</td>\n",
       "    </tr>\n",
       "    <tr>\n",
       "      <th>4</th>\n",
       "      <td>13193</td>\n",
       "    </tr>\n",
       "    <tr>\n",
       "      <th>5</th>\n",
       "      <td>11593</td>\n",
       "    </tr>\n",
       "  </tbody>\n",
       "</table>\n",
       "</div>"
      ],
      "text/plain": [
       "               abs_guess_delta\n",
       "episode_ffill                 \n",
       "1                        25503\n",
       "2                        19292\n",
       "3                        15676\n",
       "4                        13193\n",
       "5                        11593"
      ]
     },
     "execution_count": 24,
     "metadata": {},
     "output_type": "execute_result"
    }
   ],
   "source": [
    "episode.head(10)"
   ]
  },
  {
   "cell_type": "code",
   "execution_count": 25,
   "metadata": {},
   "outputs": [
    {
     "data": {
      "text/html": [
       "<div>\n",
       "<style scoped>\n",
       "    .dataframe tbody tr th:only-of-type {\n",
       "        vertical-align: middle;\n",
       "    }\n",
       "\n",
       "    .dataframe tbody tr th {\n",
       "        vertical-align: top;\n",
       "    }\n",
       "\n",
       "    .dataframe thead th {\n",
       "        text-align: right;\n",
       "    }\n",
       "</style>\n",
       "<table border=\"1\" class=\"dataframe\">\n",
       "  <thead>\n",
       "    <tr style=\"text-align: right;\">\n",
       "      <th></th>\n",
       "      <th>username</th>\n",
       "      <th>bac_level</th>\n",
       "      <th>guess_delta</th>\n",
       "      <th>abs_guess_delta</th>\n",
       "      <th>episode_ffill_sq</th>\n",
       "    </tr>\n",
       "    <tr>\n",
       "      <th>episode_ffill</th>\n",
       "      <th></th>\n",
       "      <th></th>\n",
       "      <th></th>\n",
       "      <th></th>\n",
       "      <th></th>\n",
       "    </tr>\n",
       "  </thead>\n",
       "  <tbody>\n",
       "    <tr>\n",
       "      <th>1</th>\n",
       "      <td>25503</td>\n",
       "      <td>25503</td>\n",
       "      <td>25503</td>\n",
       "      <td>25503</td>\n",
       "      <td>25503</td>\n",
       "    </tr>\n",
       "    <tr>\n",
       "      <th>2</th>\n",
       "      <td>19292</td>\n",
       "      <td>19292</td>\n",
       "      <td>19292</td>\n",
       "      <td>19292</td>\n",
       "      <td>19292</td>\n",
       "    </tr>\n",
       "    <tr>\n",
       "      <th>3</th>\n",
       "      <td>15676</td>\n",
       "      <td>15676</td>\n",
       "      <td>15676</td>\n",
       "      <td>15676</td>\n",
       "      <td>15676</td>\n",
       "    </tr>\n",
       "    <tr>\n",
       "      <th>4</th>\n",
       "      <td>13193</td>\n",
       "      <td>13193</td>\n",
       "      <td>13193</td>\n",
       "      <td>13193</td>\n",
       "      <td>13193</td>\n",
       "    </tr>\n",
       "    <tr>\n",
       "      <th>5</th>\n",
       "      <td>11593</td>\n",
       "      <td>11593</td>\n",
       "      <td>11593</td>\n",
       "      <td>11593</td>\n",
       "      <td>11593</td>\n",
       "    </tr>\n",
       "  </tbody>\n",
       "</table>\n",
       "</div>"
      ],
      "text/plain": [
       "               username  bac_level  guess_delta  abs_guess_delta  episode_ffill_sq\n",
       "episode_ffill                                                                     \n",
       "1                 25503      25503        25503            25503             25503\n",
       "2                 19292      19292        19292            19292             19292\n",
       "3                 15676      15676        15676            15676             15676\n",
       "4                 13193      13193        13193            13193             13193\n",
       "5                 11593      11593        11593            11593             11593"
      ]
     },
     "execution_count": 25,
     "metadata": {},
     "output_type": "execute_result"
    }
   ],
   "source": [
    "epi_df.groupby(\"episode_ffill\").count().head(10)"
   ]
  },
  {
   "cell_type": "code",
   "execution_count": 27,
   "metadata": {},
   "outputs": [
    {
     "data": {
      "text/plain": [
       "(85257, 6)"
      ]
     },
     "execution_count": 27,
     "metadata": {},
     "output_type": "execute_result"
    }
   ],
   "source": [
    "epi_df.shape"
   ]
  },
  {
   "cell_type": "code",
   "execution_count": 28,
   "metadata": {},
   "outputs": [
    {
     "data": {
      "text/plain": [
       "26533"
      ]
     },
     "execution_count": 28,
     "metadata": {},
     "output_type": "execute_result"
    }
   ],
   "source": [
    "epi_df.username.nunique()"
   ]
  },
  {
   "cell_type": "code",
   "execution_count": null,
   "metadata": {},
   "outputs": [],
   "source": []
  }
 ],
 "metadata": {
  "kernelspec": {
   "display_name": "Python 3",
   "language": "python",
   "name": "python3"
  },
  "language_info": {
   "codemirror_mode": {
    "name": "ipython",
    "version": 3
   },
   "file_extension": ".py",
   "mimetype": "text/x-python",
   "name": "python",
   "nbconvert_exporter": "python",
   "pygments_lexer": "ipython3",
   "version": "3.8.13"
  }
 },
 "nbformat": 4,
 "nbformat_minor": 2
}
